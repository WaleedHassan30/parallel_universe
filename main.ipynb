{
 "cells": [
  {
   "cell_type": "markdown",
   "metadata": {},
   "source": [
    "Step1 ---- > importing Modules"
   ]
  },
  {
   "cell_type": "code",
   "execution_count": 13,
   "metadata": {},
   "outputs": [
    {
     "data": {
      "text/plain": [
       "<module 'Functions' from 'd:\\\\assignment\\\\Project1\\\\Functions.py'>"
      ]
     },
     "execution_count": 13,
     "metadata": {},
     "output_type": "execute_result"
    }
   ],
   "source": [
    "import Functions\n",
    "import importlib\n",
    "importlib.reload(Functions)\n"
   ]
  },
  {
   "cell_type": "markdown",
   "metadata": {},
   "source": [
    "Step1 ---> you can assign the path ......"
   ]
  },
  {
   "cell_type": "code",
   "execution_count": 5,
   "metadata": {},
   "outputs": [],
   "source": [
    "app1 = Functions.App(r\"D:\\assignment\")"
   ]
  },
  {
   "cell_type": "markdown",
   "metadata": {},
   "source": [
    "Step2 ---> list of FOlders"
   ]
  },
  {
   "cell_type": "code",
   "execution_count": 3,
   "metadata": {},
   "outputs": [
    {
     "name": "stdout",
     "output_type": "stream",
     "text": [
      "None\n",
      "to Access Folder Name | Project1 | press Enter number 1\n",
      "to Access Folder Name | Project2 | press Enter number 2\n",
      "to backward press enter 0\n"
     ]
    }
   ],
   "source": [
    "app1.get_list_of_folders()"
   ]
  },
  {
   "cell_type": "markdown",
   "metadata": {},
   "source": [
    "Step3 ---> Access to any folder"
   ]
  },
  {
   "cell_type": "code",
   "execution_count": 6,
   "metadata": {},
   "outputs": [
    {
     "name": "stdout",
     "output_type": "stream",
     "text": [
      "None\n",
      "to Access Folder Name | Project1 | press Enter number 1\n",
      "to Access Folder Name | Project2 | press Enter number 2\n",
      "to backward press enter 0\n",
      "now you are here: D:\\assignment\\Project1\n"
     ]
    }
   ],
   "source": [
    "app1.get_specific_folder()"
   ]
  },
  {
   "cell_type": "markdown",
   "metadata": {},
   "source": [
    "Step4 ---> go to previous folder"
   ]
  },
  {
   "cell_type": "markdown",
   "metadata": {},
   "source": [
    "Step4 ---> show current path"
   ]
  },
  {
   "cell_type": "code",
   "execution_count": 15,
   "metadata": {},
   "outputs": [
    {
     "name": "stdout",
     "output_type": "stream",
     "text": [
      "now you are here: D:\\assignment\\Project1\n"
     ]
    }
   ],
   "source": [
    "app1.current_path()"
   ]
  },
  {
   "cell_type": "code",
   "execution_count": 17,
   "metadata": {},
   "outputs": [
    {
     "name": "stdout",
     "output_type": "stream",
     "text": [
      "changed dir | now you are here:  D:\\assignment\n"
     ]
    }
   ],
   "source": [
    "app1.backward()"
   ]
  },
  {
   "cell_type": "markdown",
   "metadata": {},
   "source": [
    "access Project Folder Again"
   ]
  },
  {
   "cell_type": "code",
   "execution_count": null,
   "metadata": {},
   "outputs": [
    {
     "name": "stdout",
     "output_type": "stream",
     "text": [
      "None\n",
      "to Access Folder Name | Project1 | press Enter number 1\n",
      "to Access Folder Name | Project2 | press Enter number 2\n",
      "to backward press enter 0\n",
      "now you are here: D:\\assignment\\Project1\n"
     ]
    }
   ],
   "source": [
    "app1.get_specific_folder()"
   ]
  },
  {
   "cell_type": "markdown",
   "metadata": {},
   "source": [
    "Step5 --->> Access Image folder"
   ]
  },
  {
   "cell_type": "code",
   "execution_count": 7,
   "metadata": {},
   "outputs": [
    {
     "name": "stdout",
     "output_type": "stream",
     "text": [
      "None\n",
      "to Access Folder Name | img | press Enter number 1\n",
      "to Access Folder Name | lang | press Enter number 2\n",
      "to Access Folder Name | __pycache__ | press Enter number 3\n",
      "to backward press enter 0\n",
      "now you are here: D:\\assignment\\Project1\\img\n"
     ]
    }
   ],
   "source": [
    "app1.get_specific_folder()"
   ]
  },
  {
   "cell_type": "markdown",
   "metadata": {},
   "source": [
    "Step6 ---> show all files   (but i tried to divide them into more than one column but failed)"
   ]
  },
  {
   "cell_type": "code",
   "execution_count": 8,
   "metadata": {},
   "outputs": [
    {
     "name": "stdout",
     "output_type": "stream",
     "text": [
      "file Name | Adam Sandler.jpg \n",
      "file Name | Angelina Julie.png \n",
      "file Name | Ariana Grande.jpeg \n",
      "file Name | Ben Affleck.jpg \n",
      "file Name | Ben Stiller.jpg \n",
      "file Name | Bill Gates.jpg \n",
      "file Name | Brad Pitt.jpg \n",
      "file Name | Britney Spears.jpg \n",
      "file Name | Bruce Lee.jpg \n",
      "file Name | Cameron Diaz.jpg \n",
      "file Name | Dwayne Johnson.jpg \n",
      "file Name | Elon Musk.jpg \n",
      "file Name | Elton John.jpg \n",
      "file Name | Jack Black.jpg \n",
      "file Name | Jackie Chan.jpg \n",
      "file Name | Jamie Foxx.jpg \n",
      "file Name | Jason Segel.jpg \n",
      "file Name | Jason Statham.jpg \n",
      "file Name | Jeff Bezos.jpg \n",
      "file Name | Jennifer Aniston.jpg \n",
      "file Name | Jennifer Lopez.jpg \n",
      "file Name | Jerry Seinfeld.jpg \n",
      "file Name | Jim Carrey.jpg \n",
      "file Name | John Cena.jpg \n",
      "file Name | Johnny Depp.jpg \n",
      "file Name | Josh Radnor.jpg \n",
      "file Name | Julia Roberts.jpg \n",
      "file Name | Justin Timberlake.jpg \n",
      "file Name | Kate Upton.jpg \n",
      "file Name | Keanu Reeves.jpg \n",
      "file Name | Kevin Hart.jpg \n",
      "file Name | Madonna.jpg \n",
      "file Name | Mark Ruffalo.jpg \n",
      "file Name | Mark Zuckerberg.jpg \n",
      "file Name | Matt Damon.jpg \n",
      "file Name | Michael Jackson.jpg \n",
      "file Name | Michael Jordan.jpg \n",
      "file Name | Mindy Kaling.jpg \n",
      "file Name | Miranda Cosgrove.jpg \n",
      "file Name | Neil Patrick Harris.jpg \n",
      "file Name | Nick Jonas.jpg \n",
      "file Name | Nicole Kidman.jpg \n",
      "file Name | Paul Rudd.jpg \n",
      "file Name | Robin Williams.jpg \n",
      "file Name | Steve Carell.jpg \n",
      "file Name | Steve Jobs.jpg \n",
      "file Name | Sylvester Stallone.jpg \n",
      "file Name | Tom Cruise.jpg \n",
      "file Name | Will Ferrell.jpg \n",
      "file Name | Will Smith.jpg \n",
      "Reading Done\n"
     ]
    }
   ],
   "source": [
    "app1.show_files()"
   ]
  },
  {
   "cell_type": "markdown",
   "metadata": {},
   "source": [
    "Step7 ---> show menu, what do you need ?"
   ]
  },
  {
   "cell_type": "code",
   "execution_count": 6,
   "metadata": {},
   "outputs": [
    {
     "name": "stdout",
     "output_type": "stream",
     "text": [
      "To Delete files press 1\n",
      "To delete with starts specific letter press 2 \n",
      "To delete with last name starts specific letter press 3 \n",
      "To convert files names to uppercase  press 4 \n"
     ]
    }
   ],
   "source": [
    "app1.Action_Menu()"
   ]
  },
  {
   "cell_type": "markdown",
   "metadata": {},
   "source": [
    "Step7 ---> show menu, what do you need ? (Delete Files with percentage)"
   ]
  },
  {
   "cell_type": "code",
   "execution_count": 9,
   "metadata": {},
   "outputs": [
    {
     "name": "stdout",
     "output_type": "stream",
     "text": [
      "To Delete files press 1\n",
      "To delete with starts specific letter press 2 \n",
      "To delete with last name starts specific letter press 3 \n",
      "To convert files names to uppercase  press 4 \n",
      "you choose 20% from all files (50 files | we delete about 10 files )\n",
      "deleted file: Justin Timberlake.jpg\n",
      "deleted file: Jennifer Lopez.jpg\n",
      "deleted file: Angelina Julie.png\n",
      "deleted file: Nicole Kidman.jpg\n",
      "deleted file: Cameron Diaz.jpg\n",
      "deleted file: Madonna.jpg\n",
      "deleted file: Kevin Hart.jpg\n",
      "deleted file: Brad Pitt.jpg\n",
      "deleted file: Elton John.jpg\n",
      "deleted file: Jason Statham.jpg\n"
     ]
    }
   ],
   "source": [
    "app1.Action_Menu()"
   ]
  },
  {
   "cell_type": "markdown",
   "metadata": {},
   "source": [
    "Step7 ---> show menu, what do you need ? (delete with starts specific letter press 2)"
   ]
  },
  {
   "cell_type": "code",
   "execution_count": 10,
   "metadata": {},
   "outputs": [
    {
     "name": "stdout",
     "output_type": "stream",
     "text": [
      "To Delete files press 1\n",
      "To delete with starts specific letter press 2 \n",
      "To delete with last name starts specific letter press 3 \n",
      "To convert files names to uppercase  press 4 \n",
      "deleted file: Jack Black.jpg\n",
      "deleted file: Jamie Foxx.jpg\n",
      "deleted file: Jeff Bezos.jpg\n",
      "deleted file: Jerry Seinfeld.jpg\n",
      "deleted file: John Cena.jpg\n",
      "deleted file: Josh Radnor.jpg\n",
      "Done | deleted all files start (j) and count is | (6) files\n"
     ]
    }
   ],
   "source": [
    "app1.Action_Menu()"
   ]
  },
  {
   "cell_type": "markdown",
   "metadata": {},
   "source": [
    "Step7 ---> show menu, what do you need ? (delete with last name starts specific letter press 3 )"
   ]
  },
  {
   "cell_type": "code",
   "execution_count": 11,
   "metadata": {},
   "outputs": [
    {
     "name": "stdout",
     "output_type": "stream",
     "text": [
      "To Delete files press 1\n",
      "To delete with starts specific letter press 2 \n",
      "To delete with last name starts specific letter press 3 \n",
      "To convert files names to uppercase  press 4 \n",
      "deleted file: Adam Sandler.jpg\n",
      "deleted file: Ben Stiller.jpg\n",
      "deleted file: Britney Spears.jpg\n",
      "deleted file: Jason Segel.jpg\n",
      "deleted file: Sylvester Stallone.jpg\n",
      "deleted file: Will Smith.jpg\n",
      "Done | deleted all files with last name start (s) and count is | (6) files\n"
     ]
    }
   ],
   "source": [
    "app1.Action_Menu()"
   ]
  },
  {
   "cell_type": "markdown",
   "metadata": {},
   "source": [
    "Step7 ---> show menu, what do you need ? (convert files names to uppercase  press 4 )"
   ]
  },
  {
   "cell_type": "code",
   "execution_count": 12,
   "metadata": {},
   "outputs": [
    {
     "name": "stdout",
     "output_type": "stream",
     "text": [
      "To Delete files press 1\n",
      "To delete with starts specific letter press 2 \n",
      "To delete with last name starts specific letter press 3 \n",
      "To convert files names to uppercase  press 4 \n",
      "Ariana Grande.jpeg has been renamed to ARIANA GRANDE.JPEG ..... \n",
      "Bill Gates.jpg has been renamed to BILL GATES.JPG ..... \n",
      "Dwayne Johnson.jpg has been renamed to DWAYNE JOHNSON.JPG ..... \n",
      "Jackie Chan.jpg has been renamed to JACKIE CHAN.JPG ..... \n",
      "Jim Carrey.jpg has been renamed to JIM CARREY.JPG ..... \n",
      "Julia Roberts.jpg has been renamed to JULIA ROBERTS.JPG ..... \n",
      "Keanu Reeves.jpg has been renamed to KEANU REEVES.JPG ..... \n",
      "Mark Zuckerberg.jpg has been renamed to MARK ZUCKERBERG.JPG ..... \n",
      "Michael Jackson.jpg has been renamed to MICHAEL JACKSON.JPG ..... \n",
      "Mindy Kaling.jpg has been renamed to MINDY KALING.JPG ..... \n",
      "Neil Patrick Harris.jpg has been renamed to NEIL PATRICK HARRIS.JPG ..... \n",
      "Paul Rudd.jpg has been renamed to PAUL RUDD.JPG ..... \n",
      "Steve Carell.jpg has been renamed to STEVE CARELL.JPG ..... \n",
      "Tom Cruise.jpg has been renamed to TOM CRUISE.JPG ..... \n",
      "Done | all files has been renamed to uppercase and count is | (14) files\n"
     ]
    }
   ],
   "source": [
    "app1.Action_Menu()"
   ]
  },
  {
   "cell_type": "markdown",
   "metadata": {},
   "source": [
    "Thank you ....................."
   ]
  }
 ],
 "metadata": {
  "interpreter": {
   "hash": "c1c8520fcbb8f294e06bd2cde5b8fba48811aa721d16f143ed9e9935c6d84d3a"
  },
  "kernelspec": {
   "display_name": "Python 3.10.0 64-bit",
   "language": "python",
   "name": "python3"
  },
  "language_info": {
   "codemirror_mode": {
    "name": "ipython",
    "version": 3
   },
   "file_extension": ".py",
   "mimetype": "text/x-python",
   "name": "python",
   "nbconvert_exporter": "python",
   "pygments_lexer": "ipython3",
   "version": "3.10.0"
  },
  "orig_nbformat": 4
 },
 "nbformat": 4,
 "nbformat_minor": 2
}
